{
 "cells": [
  {
   "cell_type": "code",
   "execution_count": 6,
   "metadata": {},
   "outputs": [],
   "source": [
    "import cv2\n",
    "from matplotlib import pyplot as plt\n",
    "import numpy as np\n",
    "from skimage import io\n",
    "from scipy import ndimage\n",
    "from sklearn.externals import joblib\n",
    "from keras.preprocessing import image\n",
    "from sklearn.utils import shuffle\n",
    "import glob"
   ]
  },
  {
   "cell_type": "code",
   "execution_count": 10,
   "metadata": {},
   "outputs": [
    {
     "data": {
      "text/plain": [
       "['motos', 'trucks', 'cars']"
      ]
     },
     "execution_count": 10,
     "metadata": {},
     "output_type": "execute_result"
    }
   ],
   "source": [
    "clf = joblib.load('classificacio.pkl')\n",
    "llista = joblib.load('llista.pkl')\n",
    "llista"
   ]
  },
  {
   "cell_type": "code",
   "execution_count": 11,
   "metadata": {},
   "outputs": [],
   "source": [
    "cap = cv2.VideoCapture('test1.mp4')\n",
    "\n",
    "fgbg = cv2.createBackgroundSubtractorKNN()"
   ]
  },
  {
   "cell_type": "code",
   "execution_count": 12,
   "metadata": {},
   "outputs": [],
   "source": [
    "while(1):\n",
    "    ret, frame = cap.read()\n",
    "\n",
    "    fgmask = fgbg.apply(frame)\n",
    "    open_img = ndimage.binary_opening(fgmask)\n",
    "    car = ndimage.binary_closing(open_img).astype(np.uint8)\n",
    "    cnts = cv2.findContours(car, cv2.RETR_EXTERNAL, cv2.CHAIN_APPROX_SIMPLE)\n",
    "    cnts = cnts[0] if len(cnts) == 2 else cnts[1]\n",
    "    \n",
    "    ROI_number = 0\n",
    "    \n",
    "    for c in cnts:\n",
    "        mmax = 0\n",
    "        ind = 0\n",
    "        x,y,w,h = cv2.boundingRect(c)\n",
    "        ROI = frame[y:y+h, x:x+w]\n",
    "        if np.shape(ROI) > (40,40,3):\n",
    "            img = cv2.resize(ROI, dsize=(64,64))\n",
    "            test_image = np.expand_dims(img, axis=0)\n",
    "            prediction = clf.predict(test_image)\n",
    "            for j in range(len(prediction)):\n",
    "                for k in range(len(prediction[j])):\n",
    "                    if prediction[j][k] > mmax:\n",
    "                        mmax = prediction[j][k]\n",
    "                        ind = k\n",
    "            if llista[ind] == \"cars\":\n",
    "                imr = cv2.rectangle(frame,(x,y),(x+w,y+h),(0,0,255),2)\n",
    "                cv2.putText(imr, \"car\", (x, y-10),cv2.FONT_HERSHEY_SIMPLEX,0.7, (0,0,255),2)\n",
    "            elif llista[ind] == \"motos\":\n",
    "                img = cv2.rectangle(frame,(x,y),(x+w,y+h),(0,255,0),2)\n",
    "                cv2.putText(img, \"moto\", (x,y-10), cv2.FONT_HERSHEY_SIMPLEX, 0.7, (0,255,0),2)\n",
    "            else:\n",
    "                imb = cv2.rectangle(frame,(x,y),(x+w,y+h),(255,0,0),2)                  \n",
    "                cv2.putText(imb, \"truck\", (x,y-10), cv2.FONT_HERSHEY_SIMPLEX, 0.7, (255,0,0),2)\n",
    "                \n",
    " \n",
    "        ROI_number += 1\n",
    "        \n",
    "        \n",
    "    cv2.imshow('copy', frame)\n",
    "    k = cv2.waitKey(30) & 0xff\n",
    "    if k == 27:\n",
    "        break\n",
    "\n",
    "cap.release()\n",
    "cv2.destroyAllWindows()"
   ]
  },
  {
   "cell_type": "code",
   "execution_count": 8,
   "metadata": {},
   "outputs": [
    {
     "name": "stdout",
     "output_type": "stream",
     "text": [
      "[[1. 0. 0.]]\n"
     ]
    },
    {
     "data": {
      "image/png": "[encoded data removed]",
      "text/plain": [
       "<Figure size 432x288 with 1 Axes>"
      ]
     },
     "metadata": {
      "needs_background": "light"
     },
     "output_type": "display_data"
    }
   ],
   "source": [
    "im = cv2.imread(\"moto.jpg\")\n",
    "img = cv2.resize(im, dsize=(64,64))\n",
    "test_image = np.expand_dims(img, axis=0)\n",
    "prediction = clf.predict(test_image)\n",
    "print(prediction)\n",
    "mmax = 0\n",
    "ind = 0\n",
    "for i in range(len(prediction)):\n",
    "    for j in range(len(prediction[i])):\n",
    "        if prediction[i][j] > mmax:\n",
    "            mmax = prediction[i][j]\n",
    "            ind = j\n",
    "    plt.subplot(3,3,i+1)\n",
    "    plt.imshow(im, cmap=\"gray\")\n",
    "    plt.title(llista[ind])"
   ]
  },
  {
   "cell_type": "code",
   "execution_count": null,
   "metadata": {},
   "outputs": [],
   "source": []
  }
 ],
 "metadata": {
  "kernelspec": {
   "display_name": "Python 3.6.9 64-bit",
   "language": "python",
   "name": "python36964bitb1d5b70e8bd941a289878a530c5c8daa"
  },
  "language_info": {
   "codemirror_mode": {
    "name": "ipython",
    "version": 3
   },
   "file_extension": ".py",
   "mimetype": "text/x-python",
   "name": "python",
   "nbconvert_exporter": "python",
   "pygments_lexer": "ipython3",
   "version": "3.6.9"
  }
 },
 "nbformat": 4,
 "nbformat_minor": 2
}
