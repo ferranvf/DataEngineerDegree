{
 "cells": [
  {
   "cell_type": "code",
   "execution_count": 9,
   "metadata": {},
   "outputs": [
    {
     "name": "stdout",
     "output_type": "stream",
     "text": [
      "Initialised with 5000 image(s) found.\n",
      "Output directory set to train/cars/output."
     ]
    }
   ],
   "source": [
    "import Augmentor \n",
    "p = Augmentor.Pipeline(\"train/cars\") \n",
    "l = 5000"
   ]
  },
  {
   "cell_type": "code",
   "execution_count": 10,
   "metadata": {},
   "outputs": [
    {
     "name": "stderr",
     "output_type": "stream",
     "text": [
      "Processing <PIL.Image.Image image mode=RGB size=94x60 at 0x7FCB1CD21C18>: 100%|██████████| 5000/5000 [00:15<00:00, 329.96 Samples/s]                   \n"
     ]
    }
   ],
   "source": [
    "p.flip_left_right(0.5)\n",
    "p.rotate(0.3, 10, 10) \n",
    "p.skew(0.4, 0.5) \n",
    "p.zoom(probability = 0.2, min_factor = 1.1, max_factor = 1.5) \n",
    "p.sample(l) "
   ]
  },
  {
   "cell_type": "code",
   "execution_count": 11,
   "metadata": {},
   "outputs": [
    {
     "name": "stdout",
     "output_type": "stream",
     "text": [
      "Initialised with 1982 image(s) found.\n",
      "Output directory set to train/motorcycle/output."
     ]
    }
   ],
   "source": [
    "m = Augmentor.Pipeline(\"train/motorcycle/\")\n",
    "lm = 8200"
   ]
  },
  {
   "cell_type": "code",
   "execution_count": 12,
   "metadata": {},
   "outputs": [
    {
     "name": "stderr",
     "output_type": "stream",
     "text": [
      "Processing <PIL.Image.Image image mode=RGB size=116x74 at 0x7FCB1852F668>: 100%|██████████| 8200/8200 [00:19<00:00, 427.82 Samples/s]                    \n"
     ]
    }
   ],
   "source": [
    "m.flip_left_right(0.5) \n",
    "m.rotate(0.3, 10, 10) \n",
    "m.skew(0.4, 0.5) \n",
    "m.zoom(probability = 0.2, min_factor = 1.1, max_factor = 1.5) \n",
    "m.sample(lm)"
   ]
  },
  {
   "cell_type": "code",
   "execution_count": 13,
   "metadata": {},
   "outputs": [
    {
     "name": "stdout",
     "output_type": "stream",
     "text": [
      "Initialised with 5120 image(s) found.\n",
      "Output directory set to train/trucks/output."
     ]
    }
   ],
   "source": [
    "t = Augmentor.Pipeline(\"train/trucks/\")\n",
    "lt = 5000"
   ]
  },
  {
   "cell_type": "code",
   "execution_count": 14,
   "metadata": {},
   "outputs": [
    {
     "name": "stderr",
     "output_type": "stream",
     "text": [
      "Processing <PIL.Image.Image image mode=RGB size=168x116 at 0x7FCAE47096D8>: 100%|██████████| 5000/5000 [00:22<00:00, 221.56 Samples/s]                  \n"
     ]
    }
   ],
   "source": [
    "t.flip_left_right(0.5) \n",
    "t.rotate(0.3, 10, 10) \n",
    "t.skew(0.4, 0.5) \n",
    "t.zoom(probability = 0.2, min_factor = 1.1, max_factor = 1.5) \n",
    "t.sample(lt)"
   ]
  },
  {
   "cell_type": "code",
   "execution_count": 7,
   "metadata": {},
   "outputs": [],
   "source": [
    "import cv2\n",
    "import glob\n",
    "l = glob.glob(\"train/car/*\")"
   ]
  },
  {
   "cell_type": "code",
   "execution_count": 8,
   "metadata": {},
   "outputs": [],
   "source": [
    "for i in range(5000):\n",
    "    im = cv2.imread(l[i])\n",
    "    cv2.imwrite(\"train/cars/image\"+str(i)+\".png\",im)"
   ]
  },
  {
   "cell_type": "code",
   "execution_count": null,
   "metadata": {},
   "outputs": [],
   "source": []
  }
 ],
 "metadata": {
  "kernelspec": {
   "display_name": "Python 3.6.9 64-bit",
   "language": "python",
   "name": "python36964bit715640b01f13451692d6f88bd2dc565a"
  },
  "language_info": {
   "codemirror_mode": {
    "name": "ipython",
    "version": 3
   },
   "file_extension": ".py",
   "mimetype": "text/x-python",
   "name": "python",
   "nbconvert_exporter": "python",
   "pygments_lexer": "ipython3",
   "version": "3.6.9"
  }
 },
 "nbformat": 4,
 "nbformat_minor": 4
}
